{
 "cells": [
  {
   "cell_type": "code",
   "execution_count": 47,
   "id": "55ae88b4-df3c-48f4-81f5-b90d622f0032",
   "metadata": {},
   "outputs": [],
   "source": [
    "import random\n",
    "import math\n",
    "import os\n",
    "import sys"
   ]
  },
  {
   "cell_type": "code",
   "execution_count": 94,
   "id": "7144079f-510f-4b2b-bbb4-a0a80944895b",
   "metadata": {},
   "outputs": [
    {
     "data": {
      "text/plain": [
       "(361, 10)"
      ]
     },
     "execution_count": 94,
     "metadata": {},
     "output_type": "execute_result"
    }
   ],
   "source": [
    "n = random.randint(100, 999)\n",
    "n, sum([int(x) for x in list(str(n))])"
   ]
  },
  {
   "cell_type": "code",
   "execution_count": 96,
   "id": "8535d94c-b417-464c-aae7-c87119122f69",
   "metadata": {},
   "outputs": [
    {
     "data": {
      "text/plain": [
       "(9139164268605729673, 94)"
      ]
     },
     "execution_count": 96,
     "metadata": {},
     "output_type": "execute_result"
    }
   ],
   "source": [
    "n = random.randint(0, sys.maxsize)\n",
    "n, sum([int(x) for x in list(str(n))])"
   ]
  },
  {
   "cell_type": "code",
   "execution_count": 98,
   "id": "fa910854-ddf1-4d61-ae95-2ff5db8275c4",
   "metadata": {},
   "outputs": [
    {
     "name": "stdin",
     "output_type": "stream",
     "text": [
      " 5\n"
     ]
    },
    {
     "data": {
      "text/plain": [
       "314.1592653589793"
      ]
     },
     "execution_count": 98,
     "metadata": {},
     "output_type": "execute_result"
    }
   ],
   "source": [
    "r = int(input())\n",
    "s = 4 * math.pi * r**2\n",
    "s"
   ]
  },
  {
   "cell_type": "code",
   "execution_count": 102,
   "id": "16fa7a27-e5cf-437f-b526-60dbb9aba05b",
   "metadata": {},
   "outputs": [
    {
     "name": "stdin",
     "output_type": "stream",
     "text": [
      " 2000\n"
     ]
    },
    {
     "name": "stdout",
     "output_type": "stream",
     "text": [
      "Високосный\n"
     ]
    }
   ],
   "source": [
    "g = int(input())\n",
    "if g % 4 == 0:\n",
    "    if g % 100 == 0:\n",
    "        if g % 400 == 0:\n",
    "            print('Високосный')\n",
    "        else:\n",
    "            print('Не високосный')\n",
    "    else:\n",
    "        print('Високосный')\n",
    "else:\n",
    "    print('Не високосный')"
   ]
  },
  {
   "cell_type": "code",
   "execution_count": 104,
   "id": "91f0dd1d-4db4-44aa-aba6-0bf5612108dd",
   "metadata": {},
   "outputs": [
    {
     "name": "stdin",
     "output_type": "stream",
     "text": [
      " 30\n"
     ]
    },
    {
     "data": {
      "text/plain": [
       "[2, 3, 5, 7, 11, 13, 17, 19, 23, 29]"
      ]
     },
     "execution_count": 104,
     "metadata": {},
     "output_type": "execute_result"
    }
   ],
   "source": [
    "def isprime(a):\n",
    "    if a <= 1: return False\n",
    "    if a == 2: return True\n",
    "    for i in range(2, int(a**0.5) + 1):\n",
    "        if a % i == 0:\n",
    "            return False\n",
    "    return True\n",
    "n = int(input())\n",
    "primes = []\n",
    "for i in range(1, n + 1):\n",
    "    if isprime(i):\n",
    "        primes.append(i)\n",
    "primes    "
   ]
  },
  {
   "cell_type": "code",
   "execution_count": 106,
   "id": "262c9d38-baff-4191-a7c8-7237facd7b7d",
   "metadata": {},
   "outputs": [
    {
     "name": "stdin",
     "output_type": "stream",
     "text": [
      " 12000 3\n"
     ]
    },
    {
     "data": {
      "text/plain": [
       "15972.0"
      ]
     },
     "execution_count": 106,
     "metadata": {},
     "output_type": "execute_result"
    }
   ],
   "source": [
    "x, y = map(int, input().split())\n",
    "for i in range(1, y + 1): x += x*0.1\n",
    "x"
   ]
  },
  {
   "cell_type": "code",
   "execution_count": 108,
   "id": "cb5f2740-8fdf-4389-a6ea-ec748fd59439",
   "metadata": {},
   "outputs": [
    {
     "name": "stdout",
     "output_type": "stream",
     "text": [
      "('C:\\\\Users\\\\Алексей\\\\anac', ['.ipynb_checkpoints'], ['Untitled.ipynb'])\n",
      "('C:\\\\Users\\\\Алексей\\\\anac\\\\.ipynb_checkpoints', [], ['Untitled-checkpoint.ipynb'])\n"
     ]
    }
   ],
   "source": [
    "s = os.walk(os.getcwd())\n",
    "for i in s:\n",
    "    print(i)"
   ]
  },
  {
   "cell_type": "code",
   "execution_count": 71,
   "id": "86de7c83-6f95-4505-bd3d-6fb66e99153f",
   "metadata": {},
   "outputs": [],
   "source": [
    "import argparse"
   ]
  },
  {
   "cell_type": "code",
   "execution_count": 116,
   "id": "d168f6af-eece-4895-b074-d245b67deb86",
   "metadata": {},
   "outputs": [
    {
     "name": "stdout",
     "output_type": "stream",
     "text": [
      "<class 'float'>\n"
     ]
    },
    {
     "data": {
      "text/plain": [
       "[0.009204938554384978,\n",
       " 0.022322111021323865,\n",
       " 0.10222715811004823,\n",
       " 0.3174296321763842,\n",
       " 0.5911534350013039,\n",
       " 0.6495461355254983,\n",
       " 0.6864838541790798,\n",
       " 0.7258526014465152,\n",
       " 0.8018263669964836,\n",
       " 0.8812338589221554,\n",
       " 0.9690406502940995]"
      ]
     },
     "execution_count": 116,
     "metadata": {},
     "output_type": "execute_result"
    }
   ],
   "source": [
    "\n",
    "n = 10\n",
    "value = []\n",
    "for _ in range(n + 1):\n",
    "    value.append(random.random())\n",
    "print(type(value[0]))\n",
    "for i in range(len(value)):  \n",
    "    for j in range(0, n - i):  \n",
    "        if value[j] > value[j + 1]:  \n",
    "            value[j], value[j + 1] = value[j + 1], value[j]  \n",
    "value "
   ]
  },
  {
   "cell_type": "code",
   "execution_count": 7,
   "id": "ce14f530-d5c8-4f37-a9b2-676f2e82e5ee",
   "metadata": {},
   "outputs": [
    {
     "name": "stdout",
     "output_type": "stream",
     "text": [
      "        [1]\n",
      "       [1, 1]\n",
      "      [1, 2, 1]\n",
      "     [1, 3, 3, 1]\n",
      "    [1, 4, 6, 4, 1]\n",
      "   [1, 5, 10, 10, 5, 1]\n",
      "  [1, 6, 15, 20, 15, 6, 1]\n"
     ]
    }
   ],
   "source": [
    "n = 7\n",
    "\n",
    "pascal = []\n",
    "for i in range(n):\n",
    "    z = [1] * (i + 1)\n",
    "    for j in range(i + 1):\n",
    "        if j != 0 and j != i:\n",
    "            z[j] = pascal[i - 1][j - 1] + pascal[i - 1][j]\n",
    "    pascal.append(z)\n",
    "j = 0\n",
    "for i in pascal:\n",
    "    print(' '*len(pascal[j:]), i)\n",
    "    j += 1\n",
    "    \n"
   ]
  },
  {
   "cell_type": "code",
   "execution_count": null,
   "id": "cb709f2e-2ae2-40e3-abf9-f410c9a2fe07",
   "metadata": {},
   "outputs": [],
   "source": []
  }
 ],
 "metadata": {
  "kernelspec": {
   "display_name": "Python 3 (ipykernel)",
   "language": "python",
   "name": "python3"
  },
  "language_info": {
   "codemirror_mode": {
    "name": "ipython",
    "version": 3
   },
   "file_extension": ".py",
   "mimetype": "text/x-python",
   "name": "python",
   "nbconvert_exporter": "python",
   "pygments_lexer": "ipython3",
   "version": "3.12.7"
  }
 },
 "nbformat": 4,
 "nbformat_minor": 5
}
