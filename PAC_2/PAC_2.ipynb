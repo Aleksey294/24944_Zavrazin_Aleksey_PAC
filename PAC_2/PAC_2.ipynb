{
  "cells": [
    {
      "cell_type": "code",
      "execution_count": 10,
      "metadata": {},
      "outputs": [
        {
          "name": "stdout",
          "output_type": "stream",
          "text": [
            "Не палиндром\n"
          ]
        }
      ],
      "source": [
        "# 1\n",
        "s = input()\n",
        "print('Палиндром' if s == s[::-1] else 'Не палиндром')"
      ]
    },
    {
      "cell_type": "code",
      "execution_count": 11,
      "metadata": {},
      "outputs": [
        {
          "name": "stdout",
          "output_type": "stream",
          "text": [
            "привет\n"
          ]
        }
      ],
      "source": [
        "# 2\n",
        "s = input().split(' ')\n",
        "print(max(s, key = len))"
      ]
    },
    {
      "cell_type": "code",
      "execution_count": 12,
      "metadata": {},
      "outputs": [
        {
          "name": "stdout",
          "output_type": "stream",
          "text": [
            "чёт = 3348, нечёт = 3332\n"
          ]
        }
      ],
      "source": [
        "# 3\n",
        "import random\n",
        "n = random.randint(0, 10_000)\n",
        "l = [random.randint(0, 10_000) for _ in range(n)]\n",
        "print(f'чёт = {len([x for x in l if x % 2 == 0])}, нечёт = {len([x for x in l if x % 2 != 0])}')"
      ]
    },
    {
      "cell_type": "code",
      "execution_count": 13,
      "metadata": {},
      "outputs": [
        {
          "name": "stdout",
          "output_type": "stream",
          "text": [
            "Как отличный день, но плохой вечер\n"
          ]
        }
      ],
      "source": [
        "# 4\n",
        "synonims = {'хороший':'отличный', 'плохой':'ужасный', 'красивый':'прекрасный'}\n",
        "text = input()\n",
        "full_dict = {}\n",
        "for k, v in synonims.items():\n",
        "    full_dict[k] = v\n",
        "    full_dict[v] = k\n",
        "words = text.split()\n",
        "replaced = [full_dict.get(word, word) for word in words]\n",
        "print(' '.join(replaced))"
      ]
    },
    {
      "cell_type": "code",
      "execution_count": 17,
      "metadata": {},
      "outputs": [
        {
          "name": "stdout",
          "output_type": "stream",
          "text": [
            "2\n"
          ]
        }
      ],
      "source": [
        "# 5\n",
        "def fib(n):\n",
        "    if n == 0: return 0\n",
        "    elif n == 1 or n == 2: return 1\n",
        "    else: return fib(n - 1) + fib(n - 2)\n",
        "print(fib(3))"
      ]
    },
    {
      "cell_type": "code",
      "execution_count": 18,
      "metadata": {},
      "outputs": [
        {
          "name": "stdout",
          "output_type": "stream",
          "text": [
            "Строки = 3, Слова = 102, буквы = 569\n"
          ]
        }
      ],
      "source": [
        "# 6\n",
        "with open('text.txt', 'r') as f:\n",
        "    content = f.read()\n",
        "st = content.split('\\n')\n",
        "sl = content.split()\n",
        "bk = ''.join(sl)\n",
        "print(f'Строки = {len(st)}, Слова = {len(sl)}, буквы = {len(bk)}')"
      ]
    },
    {
      "cell_type": "code",
      "execution_count": 20,
      "metadata": {},
      "outputs": [
        {
          "name": "stdout",
          "output_type": "stream",
          "text": [
            "2\n",
            "10\n",
            "50\n",
            "250\n",
            "1250\n",
            "6250\n",
            "31250\n",
            "156250\n",
            "781250\n",
            "3906250\n",
            "19531250\n",
            "97656250\n",
            "488281250\n",
            "2441406250\n",
            "12207031250\n",
            "61035156250\n",
            "305175781250\n",
            "1525878906250\n",
            "7629394531250\n",
            "38146972656250\n"
          ]
        }
      ],
      "source": [
        "# 7\n",
        "def geom(a, q):\n",
        "    g = a\n",
        "    while True:\n",
        "        yield g\n",
        "        g *= q\n",
        "for _, x in zip(range(20), geom(2, 5)):\n",
        "    print(x)"
      ]
    },
    {
      "cell_type": "code",
      "execution_count": 21,
      "metadata": {},
      "outputs": [],
      "source": [
        "# Лаба 1\n",
        "with open('matrix.txt', 'r') as f:\n",
        "    content = f.read()\n",
        "m1 = []\n",
        "m2 = []\n",
        "flag = True\n",
        "for x in content.split('\\n'):\n",
        "    if x == '':\n",
        "        flag = False\n",
        "    if flag:\n",
        "        m1.append(x)\n",
        "    else:\n",
        "        m2.append(x)\n",
        "m2.pop(0)\n",
        "m1_new = [[int(num) for num in row.split()] for row in m1]\n",
        "m2_new = [[int(num) for num in row.split()] for row in m2]\n",
        "rows_m1 = len(m1_new)\n",
        "cols_m1 = len(m1_new[0])\n",
        "cols_m2 = len(m2_new[0])\n",
        "result = [[sum(m1_new[i][k]*m2_new[k][j] for k in range(cols_m1)) for j in range(cols_m2)] for i in range(rows_m1)]\n",
        "with open('result.txt', 'w') as f:\n",
        "    for row in result:\n",
        "        f.write(' '.join(map(str, row)) + '\\n')"
      ]
    },
    {
      "cell_type": "code",
      "execution_count": 7,
      "metadata": {},
      "outputs": [],
      "source": [
        "# Лаба 2\n",
        "with open('matrix.txt', 'r') as f:\n",
        "    content = f.read()\n",
        "m1 = []\n",
        "m2 = []\n",
        "flag = True\n",
        "for x in content.split('\\n'):\n",
        "    if x.strip() == '':\n",
        "        flag = False\n",
        "        continue\n",
        "    if flag:\n",
        "        m1.append([int(num) for num in x.split()])\n",
        "    else:\n",
        "        m2.append([int(num) for num in x.split()])\n",
        "H = len(m1)\n",
        "W = len(m1[0])\n",
        "KH = len(m2)\n",
        "KW = len(m2[0])\n",
        "out_H = H - KH + 1\n",
        "out_W = W - KW + 1\n",
        "result_2 = [[sum(m1[i+ki][j+kj]*m2[ki][kj] for ki in range(KH) for kj in range(KW)) for j in range(out_W)] for i in range(out_H)]\n",
        "with open('result_2.txt', 'w') as f:\n",
        "    for row in result_2:\n",
        "        f.write(' '.join(map(str, row)) + '\\n')"
      ]
    },
    {
      "cell_type": "code",
      "execution_count": null,
      "id": "add04576",
      "metadata": {},
      "outputs": [],
      "source": []
    }
  ],
  "metadata": {
    "kernelspec": {
      "display_name": "base",
      "language": "python",
      "name": "python3"
    },
    "language_info": {
      "codemirror_mode": {
        "name": "ipython",
        "version": 3
      },
      "file_extension": ".py",
      "mimetype": "text/x-python",
      "name": "python",
      "nbconvert_exporter": "python",
      "pygments_lexer": "ipython3",
      "version": "3.12.7"
    }
  },
  "nbformat": 4,
  "nbformat_minor": 5
}
