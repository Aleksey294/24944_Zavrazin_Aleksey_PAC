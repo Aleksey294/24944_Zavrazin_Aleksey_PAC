{
 "cells": [
  {
   "cell_type": "code",
   "execution_count": 3,
   "id": "37a6a8b8",
   "metadata": {},
   "outputs": [],
   "source": [
    "# imports\n",
    "import numpy as np"
   ]
  },
  {
   "cell_type": "code",
   "execution_count": 5,
   "id": "05787c29",
   "metadata": {},
   "outputs": [
    {
     "name": "stdout",
     "output_type": "stream",
     "text": [
      "[1 1 1 2 2 3 3 3 4 4 4 4]\n",
      "[2 2 1 1 1 3 3 3 4 4 4 4]\n"
     ]
    }
   ],
   "source": [
    "# task_1\n",
    "a = np.array([1, 1, 1, 2, 2, 3, 3, 3, 4, 4, 4, 4])\n",
    "print(a)\n",
    "\n",
    "values, counts = np.unique(a, return_counts=True)\n",
    "dict_count = dict(zip(values, counts))\n",
    "\n",
    "print(np.array(sorted(a, key=lambda x: dict_count[x])))"
   ]
  },
  {
   "cell_type": "code",
   "execution_count": 6,
   "id": "f102964d",
   "metadata": {},
   "outputs": [
    {
     "name": "stdout",
     "output_type": "stream",
     "text": [
      "800\n"
     ]
    }
   ],
   "source": [
    "# task_2\n",
    "h, w = map(int, input().split())\n",
    "img = np.random.randint(0, 256, (h, w, 3), dtype=np.uint8)\n",
    "\n",
    "print(len(np.unique(img.reshape(-1, 3), axis=0)))\n"
   ]
  },
  {
   "cell_type": "code",
   "execution_count": 9,
   "id": "258ff032",
   "metadata": {},
   "outputs": [
    {
     "name": "stdout",
     "output_type": "stream",
     "text": [
      "[ 0  1  2  3  4  5  6  7  8  9 10 11 12 13 14 15 16 17 18 19]\n",
      "[ 1.5  2.5  3.5  4.5  5.5  6.5  7.5  8.5  9.5 10.5 11.5 12.5 13.5 14.5\n",
      " 15.5 16.5 17.5]\n"
     ]
    }
   ],
   "source": [
    "# task_3\n",
    "def moving_average(a, n=3):\n",
    "    ret = np.cumsum(a, dtype=float)\n",
    "    ret[n:] = ret[n:] - ret[:-n]\n",
    "    return ret[n - 1:] / n\n",
    "\n",
    "print(np.arange(20))\n",
    "print(moving_average(np.arange(20), n=4))"
   ]
  },
  {
   "cell_type": "code",
   "execution_count": 11,
   "id": "d1be8b69",
   "metadata": {},
   "outputs": [
    {
     "name": "stdout",
     "output_type": "stream",
     "text": [
      "[327  52 934]\n",
      "Это не треугольник\n",
      "[957 643  84]\n",
      "Это не треугольник\n",
      "[242 425 739]\n",
      "Это не треугольник\n",
      "[863 577 498]\n",
      "Это треугольник\n",
      "[ 59 924 290]\n",
      "Это не треугольник\n"
     ]
    }
   ],
   "source": [
    "# task_4\n",
    "n = int(input())\n",
    "a = np.random.randint(1, 1000, size=(n, 3))\n",
    "\n",
    "for row in a:\n",
    "    print(row)\n",
    "    if row[0] < row[1] + row[2]:\n",
    "        if row[1] < row[0] + row[2]:\n",
    "            if row[2] < row[0] + row[1]:\n",
    "                print('Это треугольник')\n",
    "            else:\n",
    "                print('Это не треугольник')\n",
    "        else:\n",
    "                print('Это не треугольник')\n",
    "    else:\n",
    "                print('Это не треугольник')"
   ]
  },
  {
   "cell_type": "code",
   "execution_count": null,
   "id": "891e81e7",
   "metadata": {},
   "outputs": [
    {
     "data": {
      "text/plain": [
       "array([3., 1., 2.])"
      ]
     },
     "execution_count": 6,
     "metadata": {},
     "output_type": "execute_result"
    }
   ],
   "source": [
    "# task_5\n",
    "k = np.array([\n",
    "    [3, 4, 2],\n",
    "    [5, 2, 3],\n",
    "    [4, 3, 2]\n",
    "], dtype=float)\n",
    "\n",
    "z = np.array([17, 23, 19], dtype=float)\n",
    "\n",
    "np.dot(np.linalg.inv(k), z)"
   ]
  },
  {
   "cell_type": "code",
   "execution_count": 5,
   "id": "91a91750",
   "metadata": {},
   "outputs": [
    {
     "name": "stdout",
     "output_type": "stream",
     "text": [
      "[[-0.70710678  0.         -0.70710678]\n",
      " [ 0.          1.          0.        ]\n",
      " [-0.70710678  0.          0.70710678]]\n",
      "[2. 1. 0.]\n",
      "[[-0.70710678  0.         -0.70710678]\n",
      " [ 0.          1.          0.        ]\n",
      " [ 0.70710678  0.         -0.70710678]]\n"
     ]
    }
   ],
   "source": [
    "# task_6\n",
    "A = np.matrix(\"1 0 1; 0 1 0; 1 0 1\")\n",
    "\n",
    "U, S, Vh = np.linalg.svd(A)\n",
    "print(f'{U}\\n{S}\\n{Vh}')"
   ]
  },
  {
   "cell_type": "code",
   "execution_count": null,
   "id": "d8112aac",
   "metadata": {},
   "outputs": [],
   "source": []
  }
 ],
 "metadata": {
  "kernelspec": {
   "display_name": "base",
   "language": "python",
   "name": "python3"
  },
  "language_info": {
   "codemirror_mode": {
    "name": "ipython",
    "version": 3
   },
   "file_extension": ".py",
   "mimetype": "text/x-python",
   "name": "python",
   "nbconvert_exporter": "python",
   "pygments_lexer": "ipython3",
   "version": "3.12.7"
  }
 },
 "nbformat": 4,
 "nbformat_minor": 5
}
